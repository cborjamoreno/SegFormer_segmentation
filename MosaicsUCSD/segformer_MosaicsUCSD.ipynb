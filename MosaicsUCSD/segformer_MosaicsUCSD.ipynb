{
 "cells": [
  {
   "cell_type": "code",
   "execution_count": 1,
   "metadata": {},
   "outputs": [],
   "source": [
    "from torch.utils.data import Dataset, DataLoader\n",
    "import torchvision.transforms as transforms\n",
    "from torchvision.transforms import functional as TF\n",
    "from transformers import AdamW\n",
    "import torch\n",
    "from torch import nn\n",
    "from sklearn.metrics import accuracy_score\n",
    "from tqdm.notebook import tqdm\n",
    "import os\n",
    "from PIL import Image\n",
    "from transformers import SegformerForSemanticSegmentation, SegformerFeatureExtractor, TFSegformerForSemanticSegmentation\n",
    "import pandas as pd\n",
    "import cv2\n",
    "import numpy as np\n",
    "# import albumentations as aug"
   ]
  },
  {
   "cell_type": "code",
   "execution_count": 2,
   "metadata": {},
   "outputs": [],
   "source": [
    "WIDTH = 512\n",
    "HEIGHT = 512\n",
    "dataset_path = 'MosaicsUCSD_GT'\n",
    "output_path = 'test_predictions_GT'"
   ]
  },
  {
   "cell_type": "code",
   "execution_count": 3,
   "metadata": {},
   "outputs": [],
   "source": [
    "class ImageSegmentationDataset(Dataset):\n",
    "    \"\"\"Image segmentation dataset.\"\"\"\n",
    "\n",
    "    def __init__(self, root_dir, feature_extractor, transforms=None, train=True):\n",
    "        \"\"\"\n",
    "        Args:\n",
    "            root_dir (string): Root directory of the dataset containing the images + annotations.\n",
    "            feature_extractor (SegFormerFeatureExtractor): feature extractor to prepare images + segmentation maps.\n",
    "            train (bool): Whether to load \"training\" or \"validation\" images + annotations.\n",
    "        \"\"\"\n",
    "        self.root_dir = root_dir\n",
    "        self.feature_extractor = feature_extractor\n",
    "        self.train = train\n",
    "        self.transforms = transforms\n",
    "\n",
    "        sub_path = \"train\" if self.train else \"test\"\n",
    "        self.img_dir = os.path.join(self.root_dir, sub_path, \"images\")\n",
    "        self.ann_dir = os.path.join(self.root_dir, sub_path, \"labels\")\n",
    "\n",
    "        print(self.img_dir)\n",
    "        print(self.ann_dir)\n",
    "        \n",
    "        # read images\n",
    "        image_file_names = []\n",
    "        for root, dirs, files in os.walk(self.img_dir):\n",
    "            image_file_names.extend(files)\n",
    "        self.images = sorted(image_file_names)\n",
    "        \n",
    "        # read annotations\n",
    "        annotation_file_names = []\n",
    "        for root, dirs, files in os.walk(self.ann_dir):\n",
    "            annotation_file_names.extend(files)\n",
    "        self.annotations = sorted(annotation_file_names)\n",
    "\n",
    "        assert len(self.images) == len(self.annotations), \"There must be as many images as there are segmentation maps\"\n",
    "\n",
    "    def __len__(self):\n",
    "        return len(self.images)\n",
    "\n",
    "    def __getitem__(self, idx):\n",
    "        # Construct paths to the image and annotation\n",
    "        image_path = os.path.join(self.img_dir, self.images[idx])\n",
    "        annotation_path = os.path.join(self.ann_dir, self.annotations[idx])\n",
    "\n",
    "        # Read the image and annotation using OpenCV\n",
    "        image = cv2.imread(image_path)\n",
    "        # Check if the image was loaded successfully\n",
    "        if image is None:\n",
    "            print(f\"Failed to load image from {image_path}\")\n",
    "        else:\n",
    "            try:\n",
    "                # Attempt to convert the image color space from BGR to RGB\n",
    "                image = cv2.cvtColor(image, cv2.COLOR_BGR2RGB)\n",
    "            except cv2.error as e:\n",
    "                print(f\"Failed to convert image color space: {e}\")\n",
    "\n",
    "        segmentation_map = cv2.imread(annotation_path, cv2.IMREAD_GRAYSCALE)\n",
    "        \n",
    "        # Convert the OpenCV image to a PIL Image for the transformation\n",
    "        image = Image.fromarray(image)\n",
    "        segmentation_map = Image.fromarray(segmentation_map)\n",
    "\n",
    "        # Resize the image and segmentation map to a fixed size, if needed\n",
    "        # image = TF.resize(image, (HEIGHT, WIDTH))\n",
    "        # segmentation_map = TF.resize(segmentation_map, (HEIGHT, WIDTH), interpolation=TF.InterpolationMode.NEAREST)\n",
    "\n",
    "        # Apply the transformations if any\n",
    "        if self.transforms is not None:\n",
    "            image = self.transforms(image)\n",
    "        else:\n",
    "            # Convert the PIL Image to a tensor (this also permutes dimensions to C x H x W)\n",
    "            image = TF.to_tensor(image)\n",
    "\n",
    "        # Convert the PIL Image back to a NumPy array if your processing pipeline requires it\n",
    "        segmentation_map = np.array(segmentation_map)\n",
    "\n",
    "        # Convert the segmentation map to a tensor\n",
    "        segmentation_map = torch.tensor(segmentation_map, dtype=torch.long)\n",
    "\n",
    "\n",
    "        # Prepare the return dictionary\n",
    "        return_dict = {'pixel_values': image, 'labels': segmentation_map}\n",
    "\n",
    "        # Include the filename in the return dictionary if not in training mode\n",
    "        # Inside your method, after checking if not in training mode\n",
    "        if not self.train:\n",
    "            with Image.open(image_path) as img:\n",
    "                width, height = img.size\n",
    "            return_dict['filename'] = self.images[idx]\n",
    "            return_dict['dim'] = (width, height)\n",
    "\n",
    "        return return_dict"
   ]
  },
  {
   "cell_type": "code",
   "execution_count": 4,
   "metadata": {},
   "outputs": [],
   "source": [
    "transform = transforms.Compose([\n",
    "    # transforms.RandomHorizontalFlip(0.5),\n",
    "    # transforms.RandomVerticalFlip(0.05),\n",
    "    # transforms.RandomRotation(20),\n",
    "    # transforms.ColorJitter(brightness=0.1, contrast=0.1, saturation=0.1, hue=0.1),\n",
    "    transforms.ToTensor(),\n",
    "])"
   ]
  },
  {
   "cell_type": "code",
   "execution_count": 5,
   "metadata": {},
   "outputs": [
    {
     "name": "stdout",
     "output_type": "stream",
     "text": [
      "MosaicsUCSD_GT/train/images\n",
      "MosaicsUCSD_GT/train/labels\n",
      "MosaicsUCSD_GT/test/images\n",
      "MosaicsUCSD_GT/test/labels\n"
     ]
    },
    {
     "name": "stderr",
     "output_type": "stream",
     "text": [
      "/home/cbm/miniconda3/envs/mmlab/lib/python3.7/site-packages/transformers/models/segformer/feature_extraction_segformer.py:31: FutureWarning: The class SegformerFeatureExtractor is deprecated and will be removed in version 5 of Transformers. Please use SegformerImageProcessor instead.\n",
      "  FutureWarning,\n"
     ]
    }
   ],
   "source": [
    "feature_extractor = SegformerFeatureExtractor(align=False, reduce_zero_label=False)\n",
    "\n",
    "train_dataset = ImageSegmentationDataset(root_dir=dataset_path, feature_extractor=feature_extractor, transforms=transform)\n",
    "test_dataset = ImageSegmentationDataset(root_dir=dataset_path, feature_extractor=feature_extractor, transforms=None, train=False)"
   ]
  },
  {
   "cell_type": "code",
   "execution_count": 6,
   "metadata": {},
   "outputs": [
    {
     "name": "stdout",
     "output_type": "stream",
     "text": [
      "Number of training examples: 3974\n",
      "Number of validation examples: 696\n"
     ]
    }
   ],
   "source": [
    "print(\"Number of training examples:\", len(train_dataset))\n",
    "print(\"Number of validation examples:\", len(test_dataset))"
   ]
  },
  {
   "cell_type": "code",
   "execution_count": 7,
   "metadata": {},
   "outputs": [
    {
     "data": {
      "text/plain": [
       "torch.Size([3, 512, 512])"
      ]
     },
     "execution_count": 7,
     "metadata": {},
     "output_type": "execute_result"
    }
   ],
   "source": [
    "encoded_inputs = train_dataset[1]\n",
    "encoded_inputs[\"pixel_values\"].shape"
   ]
  },
  {
   "cell_type": "code",
   "execution_count": 8,
   "metadata": {},
   "outputs": [
    {
     "data": {
      "text/plain": [
       "torch.Size([512, 512])"
      ]
     },
     "execution_count": 8,
     "metadata": {},
     "output_type": "execute_result"
    }
   ],
   "source": [
    "encoded_inputs[\"labels\"].shape"
   ]
  },
  {
   "cell_type": "code",
   "execution_count": 9,
   "metadata": {},
   "outputs": [
    {
     "data": {
      "text/plain": [
       "tensor([[34, 34, 34,  ..., 34, 34, 34],\n",
       "        [34, 34, 34,  ..., 34, 34, 34],\n",
       "        [34, 34, 34,  ..., 34, 34, 34],\n",
       "        ...,\n",
       "        [12, 12, 12,  ..., 34, 34, 34],\n",
       "        [12, 12, 12,  ..., 34, 34, 34],\n",
       "        [12, 12, 12,  ..., 34, 34, 34]])"
      ]
     },
     "execution_count": 9,
     "metadata": {},
     "output_type": "execute_result"
    }
   ],
   "source": [
    "encoded_inputs[\"labels\"]"
   ]
  },
  {
   "cell_type": "code",
   "execution_count": 10,
   "metadata": {},
   "outputs": [
    {
     "data": {
      "text/plain": [
       "tensor([11, 12, 29, 34])"
      ]
     },
     "execution_count": 10,
     "metadata": {},
     "output_type": "execute_result"
    }
   ],
   "source": [
    "encoded_inputs[\"labels\"].squeeze().unique()"
   ]
  },
  {
   "cell_type": "code",
   "execution_count": 11,
   "metadata": {},
   "outputs": [],
   "source": [
    "# mask = encoded_inputs[\"labels\"].numpy()"
   ]
  },
  {
   "cell_type": "code",
   "execution_count": 12,
   "metadata": {},
   "outputs": [
    {
     "data": {
      "image/png": "[encoded data removed]",
      "text/plain": [
       "<Figure size 640x480 with 1 Axes>"
      ]
     },
     "metadata": {},
     "output_type": "display_data"
    }
   ],
   "source": [
    "import numpy as np\n",
    "import matplotlib.pyplot as plt\n",
    "\n",
    "# Assuming 'mask' is a grayscale image where each unique value represents a different color/segment\n",
    "mask = encoded_inputs[\"labels\"].numpy()\n",
    "# Step 1: Identify unique colors\n",
    "unique_colors = np.unique(mask)\n",
    "\n",
    "# Step 2: Create a mapping to distinctive colors\n",
    "# Generate a list of distinctive colors, one for each unique color in the mask.\n",
    "# Here, we use a simple approach to generate colors evenly spaced in the HSV color space.\n",
    "distinctive_colors = plt.cm.hsv(np.linspace(0, 1, len(unique_colors)))\n",
    "\n",
    "# Create a dictionary mapping original color to distinctive color\n",
    "color_mapping = {original_color: distinctive_color for original_color, distinctive_color in zip(unique_colors, distinctive_colors)}\n",
    "\n",
    "# Step 3: Replace colors in the mask based on the mapping\n",
    "# Create an RGB image where each unique color in the original mask is replaced with a distinctive color\n",
    "rgb_mask = np.zeros(mask.shape + (3,), dtype=np.float32)\n",
    "for original_color, distinctive_color in color_mapping.items():\n",
    "    rgb_mask[mask == original_color] = distinctive_color[:3]  # Ignore the alpha channel in distinctive colors\n",
    "\n",
    "# Step 4: Plot the modified mask\n",
    "plt.imshow(rgb_mask)\n",
    "plt.axis('off')  # Hide the axis\n",
    "plt.show()"
   ]
  },
  {
   "cell_type": "code",
   "execution_count": 13,
   "metadata": {},
   "outputs": [],
   "source": [
    "from torch.utils.data import DataLoader, random_split\n",
    "\n",
    "total_size = len(train_dataset)\n",
    "train_size = int(total_size * 0.8)  # 80% for training\n",
    "validation_size = total_size - train_size  # 20% for validation\n",
    "\n",
    "# Splitting the dataset\n",
    "train_dataset, validation_dataset = random_split(train_dataset, [train_size, validation_size])\n",
    "\n",
    "# Creating DataLoaders\n",
    "train_dataloader = DataLoader(train_dataset, batch_size=4, shuffle=True)\n",
    "valid_dataloader = DataLoader(validation_dataset, batch_size=4)\n",
    "test_dataloader = DataLoader(test_dataset, batch_size=4)"
   ]
  },
  {
   "cell_type": "code",
   "execution_count": 14,
   "metadata": {},
   "outputs": [
    {
     "name": "stdout",
     "output_type": "stream",
     "text": [
      "pixel_values torch.Size([4, 3, 512, 512])\n",
      "labels torch.Size([4, 512, 512])\n"
     ]
    }
   ],
   "source": [
    "batch = next(iter(train_dataloader))\n",
    "for k, v in batch.items():\n",
    "    print(k, v.shape)"
   ]
  },
  {
   "cell_type": "code",
   "execution_count": 15,
   "metadata": {},
   "outputs": [
    {
     "data": {
      "text/plain": [
       "tensor([[[23, 23, 23,  ..., 15, 15, 15],\n",
       "         [23, 23, 23,  ..., 15, 15, 15],\n",
       "         [23, 23, 23,  ..., 15, 15, 15],\n",
       "         ...,\n",
       "         [34, 34, 34,  ..., 34, 18, 18],\n",
       "         [34, 34, 34,  ..., 34, 34, 18],\n",
       "         [34, 34, 34,  ..., 34, 34, 18]],\n",
       "\n",
       "        [[34, 34, 34,  ..., 34, 34, 34],\n",
       "         [34, 34, 34,  ..., 34, 34, 34],\n",
       "         [34, 34, 34,  ..., 34, 34, 34],\n",
       "         ...,\n",
       "         [34, 34, 34,  ..., 34, 34, 34],\n",
       "         [34, 34, 34,  ..., 34, 34, 34],\n",
       "         [27, 27, 34,  ..., 34, 34, 34]],\n",
       "\n",
       "        [[12, 12, 12,  ..., 34, 34, 34],\n",
       "         [12, 12, 12,  ..., 34, 34, 34],\n",
       "         [12, 12, 12,  ..., 34, 34, 34],\n",
       "         ...,\n",
       "         [27, 27, 27,  ..., 25, 25, 25],\n",
       "         [27, 27, 27,  ..., 25, 25, 25],\n",
       "         [27, 27, 27,  ..., 25, 25, 25]],\n",
       "\n",
       "        [[34, 34, 34,  ..., 30, 30, 30],\n",
       "         [34, 34, 34,  ..., 30, 30, 30],\n",
       "         [34, 34, 34,  ..., 30, 30, 30],\n",
       "         ...,\n",
       "         [34, 34, 34,  ..., 30, 30, 30],\n",
       "         [34, 34, 34,  ..., 30, 30, 30],\n",
       "         [34, 34, 34,  ..., 30, 30, 30]]])"
      ]
     },
     "execution_count": 15,
     "metadata": {},
     "output_type": "execute_result"
    }
   ],
   "source": [
    "batch[\"labels\"]"
   ]
  },
  {
   "cell_type": "code",
   "execution_count": 16,
   "metadata": {},
   "outputs": [],
   "source": [
    "id2label = {0: \"background\", **{i: str(i) for i in range(1, 35)}}\n",
    "label2id = {label: id for id, label in id2label.items()}\n",
    "num_labels = len(id2label)"
   ]
  },
  {
   "cell_type": "code",
   "execution_count": 17,
   "metadata": {},
   "outputs": [
    {
     "name": "stderr",
     "output_type": "stream",
     "text": [
      "Some weights of the model checkpoint at nvidia/mit-b0 were not used when initializing SegformerForSemanticSegmentation: ['classifier.weight', 'classifier.bias']\n",
      "- This IS expected if you are initializing SegformerForSemanticSegmentation from the checkpoint of a model trained on another task or with another architecture (e.g. initializing a BertForSequenceClassification model from a BertForPreTraining model).\n",
      "- This IS NOT expected if you are initializing SegformerForSemanticSegmentation from the checkpoint of a model that you expect to be exactly identical (initializing a BertForSequenceClassification model from a BertForSequenceClassification model).\n",
      "Some weights of SegformerForSemanticSegmentation were not initialized from the model checkpoint at nvidia/mit-b0 and are newly initialized: ['decode_head.classifier.bias', 'decode_head.linear_c.2.proj.bias', 'decode_head.batch_norm.weight', 'decode_head.linear_c.3.proj.weight', 'decode_head.batch_norm.running_var', 'decode_head.linear_c.0.proj.bias', 'decode_head.linear_c.3.proj.bias', 'decode_head.linear_fuse.weight', 'decode_head.linear_c.1.proj.weight', 'decode_head.linear_c.1.proj.bias', 'decode_head.batch_norm.running_mean', 'decode_head.batch_norm.num_batches_tracked', 'decode_head.batch_norm.bias', 'decode_head.linear_c.0.proj.weight', 'decode_head.linear_c.2.proj.weight', 'decode_head.classifier.weight']\n",
      "You should probably TRAIN this model on a down-stream task to be able to use it for predictions and inference.\n"
     ]
    }
   ],
   "source": [
    "model_checkpoint = \"nvidia/mit-b0\"\n",
    "model = SegformerForSemanticSegmentation.from_pretrained(\n",
    "    model_checkpoint,\n",
    "    num_labels=num_labels,\n",
    "    id2label=id2label,\n",
    "    label2id=label2id,\n",
    "    reshape_last_stage=True,\n",
    ")"
   ]
  },
  {
   "cell_type": "code",
   "execution_count": 18,
   "metadata": {},
   "outputs": [
    {
     "name": "stderr",
     "output_type": "stream",
     "text": [
      "/home/cbm/miniconda3/envs/mmlab/lib/python3.7/site-packages/transformers/optimization.py:411: FutureWarning: This implementation of AdamW is deprecated and will be removed in a future version. Use the PyTorch implementation torch.optim.AdamW instead, or set `no_deprecation_warning=True` to disable this warning\n",
      "  FutureWarning,\n"
     ]
    },
    {
     "name": "stdout",
     "output_type": "stream",
     "text": [
      "Model Initialized!\n"
     ]
    }
   ],
   "source": [
    "optimizer = AdamW(model.parameters(), lr=0.0001)\n",
    "device = torch.device(\"cuda\" if torch.cuda.is_available() else \"cpu\")\n",
    "model.to(device)\n",
    "print(\"Model Initialized!\")"
   ]
  },
  {
   "cell_type": "code",
   "execution_count": 19,
   "metadata": {},
   "outputs": [
    {
     "name": "stdout",
     "output_type": "stream",
     "text": [
      "Epoch: 1\n"
     ]
    },
    {
     "data": {
      "application/vnd.jupyter.widget-view+json": {
       "model_id": "1e13f4636692433c96b6091dd534f9a9",
       "version_major": 2,
       "version_minor": 0
      },
      "text/plain": [
       "  0%|          | 0/795 [00:00<?, ?it/s]"
      ]
     },
     "metadata": {},
     "output_type": "display_data"
    },
    {
     "name": "stdout",
     "output_type": "stream",
     "text": [
      "Train Pixel-wise accuracy: 0.7186162411327738         Train Loss: 1.2656078035351614         Val Pixel-wise accuracy: 0.7850769663457604         Val Loss: 0.7857825440078524\n",
      "Epoch: 2\n"
     ]
    },
    {
     "data": {
      "application/vnd.jupyter.widget-view+json": {
       "model_id": "5f313b9f0fd649439eba6defac11fd42",
       "version_major": 2,
       "version_minor": 0
      },
      "text/plain": [
       "  0%|          | 0/795 [00:00<?, ?it/s]"
      ]
     },
     "metadata": {},
     "output_type": "display_data"
    },
    {
     "name": "stdout",
     "output_type": "stream",
     "text": [
      "Train Pixel-wise accuracy: 0.7999497833831601         Train Loss: 0.7305533580810019         Val Pixel-wise accuracy: 0.8189658804292881         Val Loss: 0.6115399880624895\n",
      "Epoch: 3\n"
     ]
    },
    {
     "data": {
      "application/vnd.jupyter.widget-view+json": {
       "model_id": "a9d4d267399e4e77bc9d4f048e549d08",
       "version_major": 2,
       "version_minor": 0
      },
      "text/plain": [
       "  0%|          | 0/795 [00:00<?, ?it/s]"
      ]
     },
     "metadata": {},
     "output_type": "display_data"
    },
    {
     "name": "stdout",
     "output_type": "stream",
     "text": [
      "Train Pixel-wise accuracy: 0.825914315939663         Train Loss: 0.591070130692338         Val Pixel-wise accuracy: 0.8163216651933798         Val Loss: 0.6280227191184633\n",
      "Epoch: 4\n"
     ]
    },
    {
     "data": {
      "application/vnd.jupyter.widget-view+json": {
       "model_id": "9e235f19eea745a2bffd5127aea1a32b",
       "version_major": 2,
       "version_minor": 0
      },
      "text/plain": [
       "  0%|          | 0/795 [00:00<?, ?it/s]"
      ]
     },
     "metadata": {},
     "output_type": "display_data"
    },
    {
     "name": "stdout",
     "output_type": "stream",
     "text": [
      "Train Pixel-wise accuracy: 0.8425579428262062         Train Loss: 0.517609383044003         Val Pixel-wise accuracy: 0.8515278623614949         Val Loss: 0.46993749098262594\n",
      "Epoch: 5\n"
     ]
    },
    {
     "data": {
      "application/vnd.jupyter.widget-view+json": {
       "model_id": "a47941e83c29437ba02f0db5676d4507",
       "version_major": 2,
       "version_minor": 0
      },
      "text/plain": [
       "  0%|          | 0/795 [00:00<?, ?it/s]"
      ]
     },
     "metadata": {},
     "output_type": "display_data"
    },
    {
     "name": "stdout",
     "output_type": "stream",
     "text": [
      "Train Pixel-wise accuracy: 0.8545329899174293         Train Loss: 0.46540560336232933         Val Pixel-wise accuracy: 0.8552532799809849         Val Loss: 0.4584911853524309\n",
      "Epoch: 6\n"
     ]
    },
    {
     "data": {
      "application/vnd.jupyter.widget-view+json": {
       "model_id": "54d64861a0cd42f291ebbca38332c8bc",
       "version_major": 2,
       "version_minor": 0
      },
      "text/plain": [
       "  0%|          | 0/795 [00:00<?, ?it/s]"
      ]
     },
     "metadata": {},
     "output_type": "display_data"
    },
    {
     "name": "stdout",
     "output_type": "stream",
     "text": [
      "Train Pixel-wise accuracy: 0.8645174646180936         Train Loss: 0.4244422361535846         Val Pixel-wise accuracy: 0.8491719173523744         Val Loss: 0.48202425982784386\n",
      "Epoch: 7\n"
     ]
    },
    {
     "data": {
      "application/vnd.jupyter.widget-view+json": {
       "model_id": "60ab768a3f154361af8fabfe2698ace7",
       "version_major": 2,
       "version_minor": 0
      },
      "text/plain": [
       "  0%|          | 0/795 [00:00<?, ?it/s]"
      ]
     },
     "metadata": {},
     "output_type": "display_data"
    },
    {
     "name": "stdout",
     "output_type": "stream",
     "text": [
      "Train Pixel-wise accuracy: 0.8695203472893249         Train Loss: 0.40692513821259985         Val Pixel-wise accuracy: 0.8641792237288985         Val Loss: 0.42724444586128446\n",
      "Epoch: 8\n"
     ]
    },
    {
     "data": {
      "application/vnd.jupyter.widget-view+json": {
       "model_id": "68762cc2dce44a4a8bbdfde2a6471c77",
       "version_major": 2,
       "version_minor": 0
      },
      "text/plain": [
       "  0%|          | 0/795 [00:00<?, ?it/s]"
      ]
     },
     "metadata": {},
     "output_type": "display_data"
    },
    {
     "name": "stdout",
     "output_type": "stream",
     "text": [
      "Train Pixel-wise accuracy: 0.8747635861613948         Train Loss: 0.3834361623105763         Val Pixel-wise accuracy: 0.8680099866221263         Val Loss: 0.4217059186205792\n",
      "Epoch: 9\n"
     ]
    },
    {
     "data": {
      "application/vnd.jupyter.widget-view+json": {
       "model_id": "131cd629a6174724babff4a32224e12e",
       "version_major": 2,
       "version_minor": 0
      },
      "text/plain": [
       "  0%|          | 0/795 [00:00<?, ?it/s]"
      ]
     },
     "metadata": {},
     "output_type": "display_data"
    },
    {
     "name": "stdout",
     "output_type": "stream",
     "text": [
      "Train Pixel-wise accuracy: 0.8835780787877734         Train Loss: 0.34974182514274643         Val Pixel-wise accuracy: 0.8681669898376081         Val Loss: 0.41701654685502076\n",
      "Epoch: 10\n"
     ]
    },
    {
     "data": {
      "application/vnd.jupyter.widget-view+json": {
       "model_id": "f6e9e95623ec44458a7b84f5de150eed",
       "version_major": 2,
       "version_minor": 0
      },
      "text/plain": [
       "  0%|          | 0/795 [00:00<?, ?it/s]"
      ]
     },
     "metadata": {},
     "output_type": "display_data"
    },
    {
     "name": "stdout",
     "output_type": "stream",
     "text": [
      "Train Pixel-wise accuracy: 0.8849293844162273         Train Loss: 0.3434953731748293         Val Pixel-wise accuracy: 0.8587053195051305         Val Loss: 0.45154277224037515\n",
      "Epoch: 11\n"
     ]
    },
    {
     "data": {
      "application/vnd.jupyter.widget-view+json": {
       "model_id": "9110757382494c3298cea1b832dd802d",
       "version_major": 2,
       "version_minor": 0
      },
      "text/plain": [
       "  0%|          | 0/795 [00:00<?, ?it/s]"
      ]
     },
     "metadata": {},
     "output_type": "display_data"
    },
    {
     "name": "stdout",
     "output_type": "stream",
     "text": [
      "Train Pixel-wise accuracy: 0.8851586021099631         Train Loss: 0.344252902662979         Val Pixel-wise accuracy: 0.8699616216566389         Val Loss: 0.4115259888483651\n",
      "Epoch: 12\n"
     ]
    },
    {
     "data": {
      "application/vnd.jupyter.widget-view+json": {
       "model_id": "8713a129cae04157bc838c23a0f7c283",
       "version_major": 2,
       "version_minor": 0
      },
      "text/plain": [
       "  0%|          | 0/795 [00:00<?, ?it/s]"
      ]
     },
     "metadata": {},
     "output_type": "display_data"
    },
    {
     "name": "stdout",
     "output_type": "stream",
     "text": [
      "Train Pixel-wise accuracy: 0.8944463278615659         Train Loss: 0.3084044755442337         Val Pixel-wise accuracy: 0.8625683354755399         Val Loss: 0.45671114864660867\n",
      "Epoch: 13\n"
     ]
    },
    {
     "data": {
      "application/vnd.jupyter.widget-view+json": {
       "model_id": "9847ffc3fc844f60ba0173ab156bd7ea",
       "version_major": 2,
       "version_minor": 0
      },
      "text/plain": [
       "  0%|          | 0/795 [00:00<?, ?it/s]"
      ]
     },
     "metadata": {},
     "output_type": "display_data"
    },
    {
     "name": "stdout",
     "output_type": "stream",
     "text": [
      "Train Pixel-wise accuracy: 0.895565263359532         Train Loss: 0.3050503858605271         Val Pixel-wise accuracy: 0.8692007351690998         Val Loss: 0.42240164934390756\n",
      "Epoch: 14\n"
     ]
    },
    {
     "data": {
      "application/vnd.jupyter.widget-view+json": {
       "model_id": "8c0c0d43aeb24ef1ade546f7f5454405",
       "version_major": 2,
       "version_minor": 0
      },
      "text/plain": [
       "  0%|          | 0/795 [00:00<?, ?it/s]"
      ]
     },
     "metadata": {},
     "output_type": "display_data"
    },
    {
     "name": "stdout",
     "output_type": "stream",
     "text": [
      "Train Pixel-wise accuracy: 0.8963554425270537         Train Loss: 0.30115353716244486         Val Pixel-wise accuracy: 0.8679024974144081         Val Loss: 0.4296009494132133\n",
      "Epoch: 15\n"
     ]
    },
    {
     "data": {
      "application/vnd.jupyter.widget-view+json": {
       "model_id": "264a568444a848f9b99cda881e119b86",
       "version_major": 2,
       "version_minor": 0
      },
      "text/plain": [
       "  0%|          | 0/795 [00:00<?, ?it/s]"
      ]
     },
     "metadata": {},
     "output_type": "display_data"
    },
    {
     "name": "stdout",
     "output_type": "stream",
     "text": [
      "Train Pixel-wise accuracy: 0.900124969514544         Train Loss: 0.28802856105678487         Val Pixel-wise accuracy: 0.8724126212287999         Val Loss: 0.41891114922923656\n"
     ]
    },
    {
     "ename": "TypeError",
     "evalue": "'float' object is not iterable",
     "output_type": "error",
     "traceback": [
      "\u001b[0;31m---------------------------------------------------------------------------\u001b[0m",
      "\u001b[0;31mTypeError\u001b[0m                                 Traceback (most recent call last)",
      "\u001b[0;32m/tmp/ipykernel_13222/847120441.py\u001b[0m in \u001b[0;36m<module>\u001b[0;34m\u001b[0m\n\u001b[1;32m     86\u001b[0m \u001b[0;34m\u001b[0m\u001b[0m\n\u001b[1;32m     87\u001b[0m \u001b[0;31m# Calculate mean losses for each epoch\u001b[0m\u001b[0;34m\u001b[0m\u001b[0;34m\u001b[0m\u001b[0;34m\u001b[0m\u001b[0m\n\u001b[0;32m---> 88\u001b[0;31m \u001b[0mmean_train_losses\u001b[0m \u001b[0;34m=\u001b[0m \u001b[0;34m[\u001b[0m\u001b[0msum\u001b[0m\u001b[0;34m(\u001b[0m\u001b[0mlosses\u001b[0m\u001b[0;34m)\u001b[0m\u001b[0;34m/\u001b[0m\u001b[0mlen\u001b[0m\u001b[0;34m(\u001b[0m\u001b[0mlosses\u001b[0m\u001b[0;34m)\u001b[0m \u001b[0;32mfor\u001b[0m \u001b[0mlosses\u001b[0m \u001b[0;32min\u001b[0m \u001b[0mepoch_train_losses\u001b[0m\u001b[0;34m]\u001b[0m\u001b[0;34m\u001b[0m\u001b[0;34m\u001b[0m\u001b[0m\n\u001b[0m\u001b[1;32m     89\u001b[0m \u001b[0mmean_val_losses\u001b[0m \u001b[0;34m=\u001b[0m \u001b[0;34m[\u001b[0m\u001b[0msum\u001b[0m\u001b[0;34m(\u001b[0m\u001b[0mval_losses\u001b[0m\u001b[0;34m)\u001b[0m\u001b[0;34m/\u001b[0m\u001b[0mlen\u001b[0m\u001b[0;34m(\u001b[0m\u001b[0mval_losses\u001b[0m\u001b[0;34m)\u001b[0m \u001b[0;32mfor\u001b[0m \u001b[0mval_losses\u001b[0m \u001b[0;32min\u001b[0m \u001b[0mepoch_val_losses\u001b[0m\u001b[0;34m]\u001b[0m\u001b[0;34m\u001b[0m\u001b[0;34m\u001b[0m\u001b[0m\n\u001b[1;32m     90\u001b[0m \u001b[0;34m\u001b[0m\u001b[0m\n",
      "\u001b[0;32m/tmp/ipykernel_13222/847120441.py\u001b[0m in \u001b[0;36m<listcomp>\u001b[0;34m(.0)\u001b[0m\n\u001b[1;32m     86\u001b[0m \u001b[0;34m\u001b[0m\u001b[0m\n\u001b[1;32m     87\u001b[0m \u001b[0;31m# Calculate mean losses for each epoch\u001b[0m\u001b[0;34m\u001b[0m\u001b[0;34m\u001b[0m\u001b[0;34m\u001b[0m\u001b[0m\n\u001b[0;32m---> 88\u001b[0;31m \u001b[0mmean_train_losses\u001b[0m \u001b[0;34m=\u001b[0m \u001b[0;34m[\u001b[0m\u001b[0msum\u001b[0m\u001b[0;34m(\u001b[0m\u001b[0mlosses\u001b[0m\u001b[0;34m)\u001b[0m\u001b[0;34m/\u001b[0m\u001b[0mlen\u001b[0m\u001b[0;34m(\u001b[0m\u001b[0mlosses\u001b[0m\u001b[0;34m)\u001b[0m \u001b[0;32mfor\u001b[0m \u001b[0mlosses\u001b[0m \u001b[0;32min\u001b[0m \u001b[0mepoch_train_losses\u001b[0m\u001b[0;34m]\u001b[0m\u001b[0;34m\u001b[0m\u001b[0;34m\u001b[0m\u001b[0m\n\u001b[0m\u001b[1;32m     89\u001b[0m \u001b[0mmean_val_losses\u001b[0m \u001b[0;34m=\u001b[0m \u001b[0;34m[\u001b[0m\u001b[0msum\u001b[0m\u001b[0;34m(\u001b[0m\u001b[0mval_losses\u001b[0m\u001b[0;34m)\u001b[0m\u001b[0;34m/\u001b[0m\u001b[0mlen\u001b[0m\u001b[0;34m(\u001b[0m\u001b[0mval_losses\u001b[0m\u001b[0;34m)\u001b[0m \u001b[0;32mfor\u001b[0m \u001b[0mval_losses\u001b[0m \u001b[0;32min\u001b[0m \u001b[0mepoch_val_losses\u001b[0m\u001b[0;34m]\u001b[0m\u001b[0;34m\u001b[0m\u001b[0;34m\u001b[0m\u001b[0m\n\u001b[1;32m     90\u001b[0m \u001b[0;34m\u001b[0m\u001b[0m\n",
      "\u001b[0;31mTypeError\u001b[0m: 'float' object is not iterable"
     ]
    }
   ],
   "source": [
    "num_epochs = 15\n",
    "epoch_train_losses = []\n",
    "epoch_val_losses = []\n",
    "for epoch in range(1, num_epochs+1):  # loop over the dataset multiple times\n",
    "    print(\"Epoch:\", epoch)\n",
    "    pbar = tqdm(train_dataloader)\n",
    "    accuracies = []\n",
    "    losses = []\n",
    "    val_accuracies = []\n",
    "    val_losses = []\n",
    "    model.train()\n",
    "    for idx, batch in enumerate(pbar):\n",
    "        # get the inputs;\n",
    "        pixel_values = batch[\"pixel_values\"].to(device)\n",
    "        \n",
    "        #print unique labels\n",
    "        \n",
    "\n",
    "        labels = batch[\"labels\"].to(device)\n",
    "\n",
    "        # zero the parameter gradients\n",
    "        optimizer.zero_grad()\n",
    "\n",
    "        # pixel_values = pixel_values.permute(0, 3, 1, 2)\n",
    "\n",
    "        # print(pixel_values.shape)\n",
    "        # print(pixel_values.dtype)\n",
    "        # print(labels.shape)\n",
    "        # print(labels.dtype)\n",
    "\n",
    "        # check that all labels values are within the range of the number of classes\n",
    "        assert torch.all(labels < num_labels), \"A label value is out of the range of the number of classes.\"\n",
    "\n",
    "        # forward\n",
    "        outputs = model(pixel_values=pixel_values, labels=labels)\n",
    "        upsampled_logits = nn.functional.interpolate(outputs.logits, size=labels.shape[-2:], mode=\"bilinear\", align_corners=False)\n",
    "        predicted = upsampled_logits.argmax(dim=1)\n",
    "\n",
    "        mask = (labels != 0) # we don't include the background class in the accuracy calculation\n",
    "        # Check if the mask is not empty\n",
    "        # print(labels)\n",
    "        if mask.any():\n",
    "            pred_labels = predicted[mask].detach().cpu().numpy()\n",
    "            true_labels = labels[mask].detach().cpu().numpy()\n",
    "            accuracy = accuracy_score(pred_labels, true_labels)\n",
    "        else:\n",
    "            print(\"Warning: No valid labels found for accuracy calculation.\")\n",
    "            accuracy = 0\n",
    "        loss = outputs.loss\n",
    "        accuracies.append(accuracy)\n",
    "        losses.append(loss.item())\n",
    "        pbar.set_postfix({'Batch': idx, 'Pixel-wise accuracy': sum(accuracies)/len(accuracies), 'Loss': sum(losses)/len(losses)})\n",
    "\n",
    "        # backward + optimize\n",
    "        loss.backward()\n",
    "        optimizer.step()\n",
    "    else:\n",
    "        model.eval()\n",
    "        with torch.no_grad():\n",
    "            for idx, batch in enumerate(valid_dataloader):\n",
    "                pixel_values = batch[\"pixel_values\"].to(device)\n",
    "                labels = batch[\"labels\"].to(device)\n",
    "\n",
    "                outputs = model(pixel_values=pixel_values, labels=labels)\n",
    "                upsampled_logits = nn.functional.interpolate(outputs.logits, size=labels.shape[-2:], mode=\"bilinear\", align_corners=False)\n",
    "                predicted = upsampled_logits.argmax(dim=1)\n",
    "\n",
    "                mask = (labels != 0) # we don't include the background class in the accuracy calculation\n",
    "                pred_labels = predicted[mask].detach().cpu().numpy()\n",
    "                true_labels = labels[mask].detach().cpu().numpy()\n",
    "                accuracy = accuracy_score(pred_labels, true_labels)\n",
    "                val_loss = outputs.loss\n",
    "                val_accuracies.append(accuracy)\n",
    "                val_losses.append(val_loss.item())\n",
    "\n",
    "    epoch_train_losses.append(sum(losses) / len(losses))\n",
    "    epoch_val_losses.append(sum(val_losses) / len(val_losses))\n",
    "\n",
    "    print(f\"Train Pixel-wise accuracy: {sum(accuracies)/len(accuracies)}\\\n",
    "         Train Loss: {sum(losses)/len(losses)}\\\n",
    "         Val Pixel-wise accuracy: {sum(val_accuracies)/len(val_accuracies)}\\\n",
    "         Val Loss: {sum(val_losses)/len(val_losses)}\")\n",
    "    \n",
    "# Save the model\n",
    "torch.save(model.state_dict(), dataset_path+\".pth\")"
   ]
  },
  {
   "cell_type": "markdown",
   "metadata": {},
   "source": [
    "PREDICT IN TEST IMAGES"
   ]
  },
  {
   "cell_type": "code",
   "execution_count": 21,
   "metadata": {},
   "outputs": [
    {
     "data": {
      "image/png": "[encoded data removed]",
      "text/plain": [
       "<Figure size 1000x500 with 1 Axes>"
      ]
     },
     "metadata": {},
     "output_type": "display_data"
    }
   ],
   "source": [
    "# Plotting\n",
    "plt.figure(figsize=(10, 5))\n",
    "plt.plot(epoch_train_losses, label='Training Loss')\n",
    "plt.plot(epoch_val_losses, label='Validation Loss')\n",
    "plt.title('Training and Validation Losses')\n",
    "plt.xlabel('Epochs')\n",
    "plt.ylabel('Loss')\n",
    "plt.legend()\n",
    "plt.show()"
   ]
  },
  {
   "cell_type": "code",
   "execution_count": 22,
   "metadata": {},
   "outputs": [],
   "source": [
    "from sklearn.metrics import accuracy_score\n",
    "import os\n",
    "import pandas as pd\n",
    "import cv2\n",
    "import numpy as np\n",
    "import torch\n",
    "from transformers import SegformerForSemanticSegmentation, SegformerFeatureExtractor\n",
    "\n",
    "from PIL import Image\n",
    "import matplotlib.pyplot as plt\n",
    "from torch import nn"
   ]
  },
  {
   "cell_type": "code",
   "execution_count": 23,
   "metadata": {},
   "outputs": [],
   "source": [
    "id2label = {0: \"background\", **{i: str(i) for i in range(1, 35)}}\n",
    "label2id = {label: id for id, label in id2label.items()}\n",
    "num_labels = len(id2label)"
   ]
  },
  {
   "cell_type": "code",
   "execution_count": 24,
   "metadata": {},
   "outputs": [
    {
     "name": "stderr",
     "output_type": "stream",
     "text": [
      "/home/cbm/miniconda3/envs/mmlab/lib/python3.7/site-packages/transformers/models/segformer/feature_extraction_segformer.py:31: FutureWarning: The class SegformerFeatureExtractor is deprecated and will be removed in version 5 of Transformers. Please use SegformerImageProcessor instead.\n",
      "  FutureWarning,\n",
      "Some weights of the model checkpoint at nvidia/mit-b0 were not used when initializing SegformerForSemanticSegmentation: ['classifier.weight', 'classifier.bias']\n",
      "- This IS expected if you are initializing SegformerForSemanticSegmentation from the checkpoint of a model trained on another task or with another architecture (e.g. initializing a BertForSequenceClassification model from a BertForPreTraining model).\n",
      "- This IS NOT expected if you are initializing SegformerForSemanticSegmentation from the checkpoint of a model that you expect to be exactly identical (initializing a BertForSequenceClassification model from a BertForSequenceClassification model).\n",
      "Some weights of SegformerForSemanticSegmentation were not initialized from the model checkpoint at nvidia/mit-b0 and are newly initialized: ['decode_head.classifier.bias', 'decode_head.linear_c.2.proj.bias', 'decode_head.batch_norm.weight', 'decode_head.linear_c.3.proj.weight', 'decode_head.batch_norm.running_var', 'decode_head.linear_c.0.proj.bias', 'decode_head.linear_c.3.proj.bias', 'decode_head.linear_fuse.weight', 'decode_head.linear_c.1.proj.weight', 'decode_head.linear_c.1.proj.bias', 'decode_head.batch_norm.running_mean', 'decode_head.batch_norm.num_batches_tracked', 'decode_head.batch_norm.bias', 'decode_head.linear_c.0.proj.weight', 'decode_head.linear_c.2.proj.weight', 'decode_head.classifier.weight']\n",
      "You should probably TRAIN this model on a down-stream task to be able to use it for predictions and inference.\n"
     ]
    }
   ],
   "source": [
    "# Predict in test images\n",
    "feature_extractor = SegformerFeatureExtractor(align=False, reduce_zero_label=False)\n",
    "device = torch.device(\"cuda\" if torch.cuda.is_available() else \"cpu\")\n",
    "model = SegformerForSemanticSegmentation.from_pretrained(\n",
    "    \"nvidia/mit-b0\",\n",
    "    num_labels=num_labels,\n",
    "    id2label=id2label,\n",
    "    label2id=label2id,\n",
    "    reshape_last_stage=True,\n",
    ")\n",
    "\n",
    "# Load the model weights\n",
    "checkpoint = torch.load(dataset_path+\".pth\", map_location=device)\n",
    "model.load_state_dict(checkpoint)\n",
    "\n",
    "model = model.to(device)\n"
   ]
  },
  {
   "cell_type": "code",
   "execution_count": 25,
   "metadata": {},
   "outputs": [],
   "source": [
    "model.eval()\n",
    "\n",
    "def rescale_image(image, new_shape):\n",
    "    return cv2.resize(image, (new_shape[1], new_shape[0]), interpolation=cv2.INTER_NEAREST)\n",
    "\n",
    "def get_predictions(predictions_numpy, batch):\n",
    "    # Get the image sizes\n",
    "    original_shape = batch['pixel_values'].shape[-2:]\n",
    "    \n",
    "    # Rescale the predictions to the original image size\n",
    "    rescaled_predictions = [rescale_image(prediction, original_shape) for prediction in predictions_numpy]\n",
    "    \n",
    "    # Convert list of rescaled predictions to a NumPy array\n",
    "    rescaled_predictions = np.array(rescaled_predictions)\n",
    "    \n",
    "    # Get the original images and labels\n",
    "    images = batch['pixel_values'].cpu().numpy()\n",
    "    images = images.transpose(0, 2, 3, 1)\n",
    "    labels = batch['labels'].cpu().numpy()\n",
    "\n",
    "    return images, labels, rescaled_predictions\n",
    "\n",
    "# Plot the images, labels, and predictions\n",
    "def plot_predictions(images, labels, predictions):\n",
    "    fig, axs = plt.subplots(len(images), 3, figsize=(15, 5*len(images)))\n",
    "    for i, (image, label, prediction) in enumerate(zip(images, labels, predictions)):\n",
    "        axs[i, 0].imshow(image)\n",
    "        axs[i, 0].set_title(\"Image\")\n",
    "        axs[i, 0].axis('off')\n",
    "        \n",
    "        axs[i, 1].imshow(label)\n",
    "        axs[i, 1].set_title(\"Label\")\n",
    "        axs[i, 1].axis('off')\n",
    "        \n",
    "        axs[i, 2].imshow(prediction)\n",
    "        axs[i, 2].set_title(\"Prediction\")\n",
    "        axs[i, 2].axis('off')\n",
    "        \n",
    "    plt.tight_layout()\n",
    "    plt.show()\n",
    "\n",
    "def label_to_rgb(label, palette):\n",
    "    # Create an empty image with 3 channels for RGB\n",
    "    rgb_image = np.zeros((label.shape[0], label.shape[1], 3), dtype=np.uint8)\n",
    "    \n",
    "    # Map each label to its corresponding color\n",
    "    for i, color in enumerate(palette):\n",
    "        mask = (label == i)\n",
    "        rgb_image[mask] = color\n",
    "    \n",
    "    return rgb_image\n",
    "\n",
    "def convert_predictions_and_labels_to_rgb(labels, predictions, palette):\n",
    "    labels_rgb = np.array([label_to_rgb(label, palette) for label in labels])\n",
    "    predictions_rgb = np.array([label_to_rgb(prediction, palette) for prediction in predictions])\n",
    "    return labels_rgb, predictions_rgb\n",
    "\n",
    "all_predictions = []\n",
    "\n",
    "with torch.no_grad():\n",
    "    for batch in test_dataloader:\n",
    "        inputs = batch['pixel_values'].to(device)\n",
    "        filenames = batch['filename']\n",
    "        dims = batch['dim']\n",
    "\n",
    "        widths, heights = dims\n",
    "        widths_list = widths.tolist()\n",
    "        heights_list = heights.tolist()\n",
    "        dims_tuples = list(zip(widths_list, heights_list))\n",
    "        \n",
    "        # Get model predictions\n",
    "        outputs = model(inputs)\n",
    "        logits = outputs.logits\n",
    "        predicted_labels = torch.argmax(logits, dim=1)\n",
    "        \n",
    "        # Move predictions to CPU and convert to numpy for further processing if necessary\n",
    "        predictions_numpy = predicted_labels.cpu().numpy()\n",
    "\n",
    "        # Process and plot predictions for the current batch\n",
    "        images, labels, rescaled_predictions = get_predictions(predictions_numpy, batch)\n",
    "\n",
    "        for filename, prediction_rgb, dim in zip(filenames, rescaled_predictions, dims_tuples):\n",
    "            all_predictions.append((filename, prediction_rgb, dim))\n",
    "\n",
    "# Reshape all predicitons to the original image size\n",
    "os.makedirs(output_path, exist_ok=True)\n",
    "\n",
    "for filename, prediction, dim in all_predictions:  # Adjusted to unpack filenames with predictions\n",
    "    # Reshape prediction to the original image size\n",
    "    # prediction = cv2.resize(prediction, dim, interpolation=cv2.INTER_NEAREST)\n",
    "    output_dir = os.path.join(output_path, os.path.splitext(filename)[0] + '.png')  # Use original filename\n",
    "    cv2.imwrite(output_dir, prediction)"
   ]
  }
 ],
 "metadata": {
  "kernelspec": {
   "display_name": "mmlab",
   "language": "python",
   "name": "python3"
  },
  "language_info": {
   "codemirror_mode": {
    "name": "ipython",
    "version": 3
   },
   "file_extension": ".py",
   "mimetype": "text/x-python",
   "name": "python",
   "nbconvert_exporter": "python",
   "pygments_lexer": "ipython3",
   "version": "3.7.12"
  }
 },
 "nbformat": 4,
 "nbformat_minor": 2
}
